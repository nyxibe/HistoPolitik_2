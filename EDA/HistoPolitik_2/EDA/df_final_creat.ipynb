{
 "cells": [
  {
   "cell_type": "markdown",
   "id": "b3168ee2-10bb-4016-80e9-6461bfe0d9ab",
   "metadata": {},
   "source": [
    "# CREATION DE LA DAFRAME FINALE support a notre M.L.\n",
    "\n",
    "Fusion de fichiers csv 1 par table\n",
    "\n",
    "## Attention pour fonctionner 2 fichiers sont indispensables :\n",
    "- ../DATA/list_codecommune_leg2022_50inscrits.txt <br/>List de toutes les clefs necessaires\n",
    "- ../DATA/EXPORT_CSV/final_TAR_YYY_leg2022com <br/>Fichier target des resultats aux legislatives 2022 qui initialise notre dataframe\n",
    "\n",
    "### PROCEDURE de traitement de dataframe\n",
    "### 1 Initialisation avec taget\n",
    "### 2 Parcours des fichiers csv du repertoire\n",
    "    TESTS / actions\n",
    "    - A: commence par final\n",
    "    - B: validation nb de lignes \n",
    "    - C: validation des entetes\n",
    "    - D: validation des clefs (depuis list_codecommune_leg2022_50inscrits.txt)\n",
    "    - E: recuperation de la liste des bons prefixes a traiter (file_name.split('_')[1:-1])\n",
    "    - F: recuperation de la dataframe avec les colonnes qui disposent des prefixes souhaités\n",
    "    - G: fusion (merge) sur la colonne codecommune\n",
    "    \n",
    "### 3 [NON TRAITE] : remplacement des Nan avec voisin le plus proche\n",
    "\n",
    "### 4 [NON TRAITE] : Export CSV \n",
    "\n",
    "    "
   ]
  },
  {
   "cell_type": "code",
   "execution_count": 1,
   "id": "b80a0302-5437-4367-a4b6-1a20f54f951d",
   "metadata": {},
   "outputs": [],
   "source": [
    "import warnings\n",
    "warnings.filterwarnings(\"ignore\")\n",
    "\n",
    "import os\n",
    "import pandas as pd\n",
    "import numpy as np"
   ]
  },
  {
   "cell_type": "markdown",
   "id": "8321c4cb-b472-43da-83ed-cad480d97b35",
   "metadata": {},
   "source": [
    "## LISTER LES FICHIERS A TRAITER"
   ]
  },
  {
   "cell_type": "code",
   "execution_count": 2,
   "id": "bc37a31a-c97a-401a-adda-7828b034cef4",
   "metadata": {},
   "outputs": [],
   "source": [
    "# INPUT : Repertoire à parcourir\n",
    "# OUTPUT : Dico [nom du fichier]: prefix des colonnes à traiter\n",
    "\n",
    "def trouver_fichiers_csv(directory):\n",
    "    fichiers_csv = {}\n",
    "    files = os.listdir(directory)\n",
    "    for file in files:\n",
    "        # file_path = os.path.join(directory, file)\n",
    "        file_name, file_extension = os.path.splitext(file)\n",
    "        if file_extension == '.csv' :\n",
    "            infos = file_name.split('_')\n",
    "            if infos[0] =='final' and len(infos[1])==3 :\n",
    "                fichiers_csv[file] = infos[1:-1]\n",
    "    return fichiers_csv\n",
    "\n"
   ]
  },
  {
   "cell_type": "code",
   "execution_count": 3,
   "id": "ffff114b-64d5-4269-a408-dbec19f79f6a",
   "metadata": {},
   "outputs": [
    {
     "data": {
      "text/plain": [
       "{'final_RSA_rsacommunes.csv': ['RSA'],\n",
       " 'final_AGE_agesexcommunes.csv': ['AGE'],\n",
       " 'final_BFL_basesfiscalescommunes.csv': ['BFL'],\n",
       " 'final_GEO_correspondance-code-insee-code-postal.csv': ['GEO'],\n",
       " 'final_KP0_capitalimmobilier.csv': ['KP0'],\n",
       " 'final_KP1_capitalimmobiliercommunes.csv': ['KP1'],\n",
       " 'final_PRO_proprietairescommunes.csv': ['PRO'],\n",
       " 'final_EMP_empfoncommunes.csv': ['EMP'],\n",
       " 'final_DIP_diplomescommunes.csv': ['DIP'],\n",
       " 'final_CED_crimesdelits.csv': ['CED'],\n",
       " 'final_CSP_cspcommunes.csv': ['CSP'],\n",
       " 'final_TAR_YYY_leg2022comm.csv': ['TAR', 'YYY'],\n",
       " 'final_TER_terrescommunes.csv': ['TER'],\n",
       " 'final_NAT_naticommunes.csv': ['NAT']}"
      ]
     },
     "execution_count": 3,
     "metadata": {},
     "output_type": "execute_result"
    }
   ],
   "source": [
    "path='../DATA/EXPORT_CSV/'\n",
    "list_csv = trouver_fichiers_csv(path)\n",
    "list_csv "
   ]
  },
  {
   "cell_type": "markdown",
   "id": "192c4d91-5d4b-4f52-be77-d71cc7e0500c",
   "metadata": {},
   "source": [
    "## FIXER LES INDEXES"
   ]
  },
  {
   "cell_type": "code",
   "execution_count": 4,
   "id": "97827c04-04c8-4c3c-b395-735104ae6d0b",
   "metadata": {},
   "outputs": [
    {
     "name": "stdout",
     "output_type": "stream",
     "text": [
      "['01001', '01002', '01004', '01005', '01006', '01007', '01008', '01009', '01010', '01011'] 33830\n"
     ]
    }
   ],
   "source": [
    "# Specify the file path\n",
    "file_path = '../DATA/list_codecommune_leg2022_50inscrits.txt'\n",
    "\n",
    "# Open the text file and read lines into a list\n",
    "with open(file_path, 'r', encoding='utf-8') as file:\n",
    "    lines = [line.strip() for line in file.readlines()]\n",
    "\n",
    "# Print or manipulate the list of lines as needed\n",
    "print(lines[0:10], len(lines))"
   ]
  },
  {
   "cell_type": "markdown",
   "id": "cbac3bbc-d441-4900-997a-a92893fd9cc7",
   "metadata": {},
   "source": [
    "# IMPORTS"
   ]
  },
  {
   "cell_type": "code",
   "execution_count": 5,
   "id": "855a025f-5df9-4e9f-be04-f1e60299d158",
   "metadata": {},
   "outputs": [],
   "source": [
    "# INPUT : \n",
    "#    nom du fichier\n",
    "#    repertoire\n",
    "#    liste des clefs (codecommunes)\n",
    "#    colonnes entetes a conserver (codecommunes) pour tous sauf la target (on garde les 4)\n",
    "\n",
    "# OUTPUT : dataframe du fichier csv controlé et filtré\n",
    "\n",
    "def load_verif_df (file, path, listinfo, lines, cols_entete = ['codecommune'] ) :\n",
    "    file_path = path + file\n",
    "    print(f\"\\nTRAITEMENT : {file_path}\")\n",
    "    if os.path.exists(file_path):\n",
    "        # IMPORT CSV\n",
    "        df_from_csv = pd.read_csv(file_path, encoding='utf-8', sep=';', low_memory=False)\n",
    "        print(f\"   df_from_csv : {df_from_csv.shape}\")\n",
    "        # TEST DIM\n",
    "        if len(lines) == len(df_from_csv) :\n",
    "            # VALIDATION ENTETES\n",
    "            cols = df_from_csv.columns\n",
    "            if np.array_equal(cols[0:4],  ['dep', 'nomdep', 'codecommune', 'nomcommune']) : \n",
    "                # VALIDATION DES CLEFS\n",
    "                if set(lines) == set(df_from_csv['codecommune'].tolist()):                                            \n",
    "                    # LIST DES COLONNES A RECUP & FILTRE\n",
    "                    cols_select = cols_entete + [col for col in cols[4:] if any(col.startswith(prefix) for prefix in listinfo)]\n",
    "                    print(f\"   > {len(cols_select)-1} COLONNES A TRAITER  {cols_select}\")\n",
    "                    return df_from_csv[cols_select]\n",
    "                else : \n",
    "                    print(f\"LISTE DES CLEFS NON RESPECTEE\")\n",
    "            else : \n",
    "                print(f\"COLONNES ENTETES NON VALIDEES  {cols[0:4]}\")\n",
    "        else : \n",
    "            print(f\"ERREUR NB. LIGNES : {len(lines)} != {len(df_from_csv)}\")\n",
    "    else:\n",
    "        print(f\"FICHIER {file_path} NON TROUVE\")\n",
    "    return pd.DataFrame()"
   ]
  },
  {
   "cell_type": "markdown",
   "id": "c34dddea-52d4-4f3b-9389-aa9344176f49",
   "metadata": {},
   "source": [
    "### Initialisation"
   ]
  },
  {
   "cell_type": "code",
   "execution_count": 6,
   "id": "ace93c65-55ae-4fa8-9bb4-12e3c7a38d54",
   "metadata": {},
   "outputs": [],
   "source": [
    "synthese = {}"
   ]
  },
  {
   "cell_type": "markdown",
   "id": "dcc1c0fe-8412-4225-9bbf-2ed2c0c17861",
   "metadata": {},
   "source": [
    "### IMPOTER LA TARGET\n",
    "\n",
    "(dico = TAR)"
   ]
  },
  {
   "cell_type": "code",
   "execution_count": 7,
   "id": "fd656025-6bf0-40fd-8833-cf40a656a982",
   "metadata": {},
   "outputs": [
    {
     "name": "stdout",
     "output_type": "stream",
     "text": [
      "\n",
      "TRAITEMENT : ../DATA/EXPORT_CSV/final_TAR_YYY_leg2022comm.csv\n",
      "   df_from_csv : (33830, 30)\n",
      "   > 18 COLONNES A TRAITER  ['dep', 'nomdep', 'codecommune', 'nomcommune', 'TAR_inscrits', 'TAR_votants', 'TAR_exprimes', 'YYY_pvoixAUG', 'YYY_pvoixNUP', 'YYY_pvoixDVG', 'YYY_pvoixECO', 'YYY_pvoixREG', 'YYY_pvoixENS', 'YYY_pvoixUDI', 'YYY_pvoixLR', 'YYY_pvoixDVD', 'YYY_pvoixREC', 'YYY_pvoixRN', 'TAR_electeurs']\n",
      "(33830, 19)\n"
     ]
    }
   ],
   "source": [
    "for dico_fil in list_csv : \n",
    "    if 'TAR' in list_csv[dico_fil] :\n",
    "        df_final = load_verif_df (dico_fil, path, list_csv[dico_fil], lines, cols_entete = ['dep', 'nomdep', 'codecommune', 'nomcommune'])\n",
    "        synthese[dico_fil] = df_final.shape[1]\n",
    "        print (df_final.shape)\n"
   ]
  },
  {
   "cell_type": "markdown",
   "id": "8c9b4681-9575-4d74-aa7a-f0b08b43ee9f",
   "metadata": {},
   "source": [
    "### FUSIONNER LES AUTRES FICHIERS DU DICO \n",
    "(hors TAR)"
   ]
  },
  {
   "cell_type": "code",
   "execution_count": 8,
   "id": "68027f8a-6e15-4b54-922a-3f02fe1275ee",
   "metadata": {},
   "outputs": [
    {
     "name": "stdout",
     "output_type": "stream",
     "text": [
      "DIMENSIONS df_final EN ENTREE :  (33830, 19)\n",
      "\n",
      "TRAITEMENT : ../DATA/EXPORT_CSV/final_RSA_rsacommunes.csv\n",
      "   df_from_csv : (0, 1)\n",
      "ERREUR NB. LIGNES : 33830 != 0\n"
     ]
    },
    {
     "ename": "KeyError",
     "evalue": "'codecommune'",
     "output_type": "error",
     "traceback": [
      "\u001b[0;31m---------------------------------------------------------------------------\u001b[0m",
      "\u001b[0;31mKeyError\u001b[0m                                  Traceback (most recent call last)",
      "Cell \u001b[0;32mIn [8], line 6\u001b[0m\n\u001b[1;32m      4\u001b[0m df \u001b[38;5;241m=\u001b[39m load_verif_df (dico_fil, path, list_csv[dico_fil], lines)\n\u001b[1;32m      5\u001b[0m synthese[dico_fil] \u001b[38;5;241m=\u001b[39m df\u001b[38;5;241m.\u001b[39mshape[\u001b[38;5;241m1\u001b[39m]\u001b[38;5;241m-\u001b[39m\u001b[38;5;241m1\u001b[39m\n\u001b[0;32m----> 6\u001b[0m df_final \u001b[38;5;241m=\u001b[39m \u001b[43mpd\u001b[49m\u001b[38;5;241;43m.\u001b[39;49m\u001b[43mmerge\u001b[49m\u001b[43m(\u001b[49m\u001b[43mdf_final\u001b[49m\u001b[43m,\u001b[49m\u001b[43m \u001b[49m\u001b[43mdf\u001b[49m\u001b[43m,\u001b[49m\u001b[43m \u001b[49m\u001b[43mon\u001b[49m\u001b[38;5;241;43m=\u001b[39;49m\u001b[38;5;124;43m'\u001b[39;49m\u001b[38;5;124;43mcodecommune\u001b[39;49m\u001b[38;5;124;43m'\u001b[39;49m\u001b[43m,\u001b[49m\u001b[43m \u001b[49m\u001b[43mhow\u001b[49m\u001b[38;5;241;43m=\u001b[39;49m\u001b[38;5;124;43m'\u001b[39;49m\u001b[38;5;124;43minner\u001b[39;49m\u001b[38;5;124;43m'\u001b[39;49m\u001b[43m)\u001b[49m\n\u001b[1;32m      7\u001b[0m \u001b[38;5;28mprint\u001b[39m(\u001b[38;5;124mf\u001b[39m\u001b[38;5;124m\"\u001b[39m\u001b[38;5;124mDIMENSIONS df_final EN SORTIE :  \u001b[39m\u001b[38;5;132;01m{\u001b[39;00mdf_final\u001b[38;5;241m.\u001b[39mshape\u001b[38;5;132;01m}\u001b[39;00m\u001b[38;5;124m\"\u001b[39m)\n",
      "File \u001b[0;32m~/.pyenv/versions/3.10.12/envs/artefact/lib/python3.10/site-packages/pandas/core/reshape/merge.py:169\u001b[0m, in \u001b[0;36mmerge\u001b[0;34m(left, right, how, on, left_on, right_on, left_index, right_index, sort, suffixes, copy, indicator, validate)\u001b[0m\n\u001b[1;32m    154\u001b[0m     \u001b[38;5;28;01mreturn\u001b[39;00m _cross_merge(\n\u001b[1;32m    155\u001b[0m         left_df,\n\u001b[1;32m    156\u001b[0m         right_df,\n\u001b[0;32m   (...)\u001b[0m\n\u001b[1;32m    166\u001b[0m         copy\u001b[38;5;241m=\u001b[39mcopy,\n\u001b[1;32m    167\u001b[0m     )\n\u001b[1;32m    168\u001b[0m \u001b[38;5;28;01melse\u001b[39;00m:\n\u001b[0;32m--> 169\u001b[0m     op \u001b[38;5;241m=\u001b[39m \u001b[43m_MergeOperation\u001b[49m\u001b[43m(\u001b[49m\n\u001b[1;32m    170\u001b[0m \u001b[43m        \u001b[49m\u001b[43mleft_df\u001b[49m\u001b[43m,\u001b[49m\n\u001b[1;32m    171\u001b[0m \u001b[43m        \u001b[49m\u001b[43mright_df\u001b[49m\u001b[43m,\u001b[49m\n\u001b[1;32m    172\u001b[0m \u001b[43m        \u001b[49m\u001b[43mhow\u001b[49m\u001b[38;5;241;43m=\u001b[39;49m\u001b[43mhow\u001b[49m\u001b[43m,\u001b[49m\n\u001b[1;32m    173\u001b[0m \u001b[43m        \u001b[49m\u001b[43mon\u001b[49m\u001b[38;5;241;43m=\u001b[39;49m\u001b[43mon\u001b[49m\u001b[43m,\u001b[49m\n\u001b[1;32m    174\u001b[0m \u001b[43m        \u001b[49m\u001b[43mleft_on\u001b[49m\u001b[38;5;241;43m=\u001b[39;49m\u001b[43mleft_on\u001b[49m\u001b[43m,\u001b[49m\n\u001b[1;32m    175\u001b[0m \u001b[43m        \u001b[49m\u001b[43mright_on\u001b[49m\u001b[38;5;241;43m=\u001b[39;49m\u001b[43mright_on\u001b[49m\u001b[43m,\u001b[49m\n\u001b[1;32m    176\u001b[0m \u001b[43m        \u001b[49m\u001b[43mleft_index\u001b[49m\u001b[38;5;241;43m=\u001b[39;49m\u001b[43mleft_index\u001b[49m\u001b[43m,\u001b[49m\n\u001b[1;32m    177\u001b[0m \u001b[43m        \u001b[49m\u001b[43mright_index\u001b[49m\u001b[38;5;241;43m=\u001b[39;49m\u001b[43mright_index\u001b[49m\u001b[43m,\u001b[49m\n\u001b[1;32m    178\u001b[0m \u001b[43m        \u001b[49m\u001b[43msort\u001b[49m\u001b[38;5;241;43m=\u001b[39;49m\u001b[43msort\u001b[49m\u001b[43m,\u001b[49m\n\u001b[1;32m    179\u001b[0m \u001b[43m        \u001b[49m\u001b[43msuffixes\u001b[49m\u001b[38;5;241;43m=\u001b[39;49m\u001b[43msuffixes\u001b[49m\u001b[43m,\u001b[49m\n\u001b[1;32m    180\u001b[0m \u001b[43m        \u001b[49m\u001b[43mindicator\u001b[49m\u001b[38;5;241;43m=\u001b[39;49m\u001b[43mindicator\u001b[49m\u001b[43m,\u001b[49m\n\u001b[1;32m    181\u001b[0m \u001b[43m        \u001b[49m\u001b[43mvalidate\u001b[49m\u001b[38;5;241;43m=\u001b[39;49m\u001b[43mvalidate\u001b[49m\u001b[43m,\u001b[49m\n\u001b[1;32m    182\u001b[0m \u001b[43m    \u001b[49m\u001b[43m)\u001b[49m\n\u001b[1;32m    183\u001b[0m     \u001b[38;5;28;01mreturn\u001b[39;00m op\u001b[38;5;241m.\u001b[39mget_result(copy\u001b[38;5;241m=\u001b[39mcopy)\n",
      "File \u001b[0;32m~/.pyenv/versions/3.10.12/envs/artefact/lib/python3.10/site-packages/pandas/core/reshape/merge.py:791\u001b[0m, in \u001b[0;36m_MergeOperation.__init__\u001b[0;34m(self, left, right, how, on, left_on, right_on, left_index, right_index, sort, suffixes, indicator, validate)\u001b[0m\n\u001b[1;32m    781\u001b[0m     \u001b[38;5;28;01mraise\u001b[39;00m MergeError(msg)\n\u001b[1;32m    783\u001b[0m \u001b[38;5;28mself\u001b[39m\u001b[38;5;241m.\u001b[39mleft_on, \u001b[38;5;28mself\u001b[39m\u001b[38;5;241m.\u001b[39mright_on \u001b[38;5;241m=\u001b[39m \u001b[38;5;28mself\u001b[39m\u001b[38;5;241m.\u001b[39m_validate_left_right_on(left_on, right_on)\n\u001b[1;32m    785\u001b[0m (\n\u001b[1;32m    786\u001b[0m     \u001b[38;5;28mself\u001b[39m\u001b[38;5;241m.\u001b[39mleft_join_keys,\n\u001b[1;32m    787\u001b[0m     \u001b[38;5;28mself\u001b[39m\u001b[38;5;241m.\u001b[39mright_join_keys,\n\u001b[1;32m    788\u001b[0m     \u001b[38;5;28mself\u001b[39m\u001b[38;5;241m.\u001b[39mjoin_names,\n\u001b[1;32m    789\u001b[0m     left_drop,\n\u001b[1;32m    790\u001b[0m     right_drop,\n\u001b[0;32m--> 791\u001b[0m ) \u001b[38;5;241m=\u001b[39m \u001b[38;5;28;43mself\u001b[39;49m\u001b[38;5;241;43m.\u001b[39;49m\u001b[43m_get_merge_keys\u001b[49m\u001b[43m(\u001b[49m\u001b[43m)\u001b[49m\n\u001b[1;32m    793\u001b[0m \u001b[38;5;28;01mif\u001b[39;00m left_drop:\n\u001b[1;32m    794\u001b[0m     \u001b[38;5;28mself\u001b[39m\u001b[38;5;241m.\u001b[39mleft \u001b[38;5;241m=\u001b[39m \u001b[38;5;28mself\u001b[39m\u001b[38;5;241m.\u001b[39mleft\u001b[38;5;241m.\u001b[39m_drop_labels_or_levels(left_drop)\n",
      "File \u001b[0;32m~/.pyenv/versions/3.10.12/envs/artefact/lib/python3.10/site-packages/pandas/core/reshape/merge.py:1269\u001b[0m, in \u001b[0;36m_MergeOperation._get_merge_keys\u001b[0;34m(self)\u001b[0m\n\u001b[1;32m   1267\u001b[0m rk \u001b[38;5;241m=\u001b[39m cast(Hashable, rk)\n\u001b[1;32m   1268\u001b[0m \u001b[38;5;28;01mif\u001b[39;00m rk \u001b[38;5;129;01mis\u001b[39;00m \u001b[38;5;129;01mnot\u001b[39;00m \u001b[38;5;28;01mNone\u001b[39;00m:\n\u001b[0;32m-> 1269\u001b[0m     right_keys\u001b[38;5;241m.\u001b[39mappend(\u001b[43mright\u001b[49m\u001b[38;5;241;43m.\u001b[39;49m\u001b[43m_get_label_or_level_values\u001b[49m\u001b[43m(\u001b[49m\u001b[43mrk\u001b[49m\u001b[43m)\u001b[49m)\n\u001b[1;32m   1270\u001b[0m \u001b[38;5;28;01melse\u001b[39;00m:\n\u001b[1;32m   1271\u001b[0m     \u001b[38;5;66;03m# work-around for merge_asof(right_index=True)\u001b[39;00m\n\u001b[1;32m   1272\u001b[0m     right_keys\u001b[38;5;241m.\u001b[39mappend(right\u001b[38;5;241m.\u001b[39mindex\u001b[38;5;241m.\u001b[39m_values)\n",
      "File \u001b[0;32m~/.pyenv/versions/3.10.12/envs/artefact/lib/python3.10/site-packages/pandas/core/generic.py:1844\u001b[0m, in \u001b[0;36mNDFrame._get_label_or_level_values\u001b[0;34m(self, key, axis)\u001b[0m\n\u001b[1;32m   1842\u001b[0m     values \u001b[38;5;241m=\u001b[39m \u001b[38;5;28mself\u001b[39m\u001b[38;5;241m.\u001b[39maxes[axis]\u001b[38;5;241m.\u001b[39mget_level_values(key)\u001b[38;5;241m.\u001b[39m_values\n\u001b[1;32m   1843\u001b[0m \u001b[38;5;28;01melse\u001b[39;00m:\n\u001b[0;32m-> 1844\u001b[0m     \u001b[38;5;28;01mraise\u001b[39;00m \u001b[38;5;167;01mKeyError\u001b[39;00m(key)\n\u001b[1;32m   1846\u001b[0m \u001b[38;5;66;03m# Check for duplicates\u001b[39;00m\n\u001b[1;32m   1847\u001b[0m \u001b[38;5;28;01mif\u001b[39;00m values\u001b[38;5;241m.\u001b[39mndim \u001b[38;5;241m>\u001b[39m \u001b[38;5;241m1\u001b[39m:\n",
      "\u001b[0;31mKeyError\u001b[0m: 'codecommune'"
     ]
    }
   ],
   "source": [
    "print(f\"DIMENSIONS df_final EN ENTREE :  {df_final.shape}\")\n",
    "for dico_fil in list_csv : \n",
    "    if 'TAR' not in list_csv[dico_fil] :\n",
    "        df = load_verif_df (dico_fil, path, list_csv[dico_fil], lines)\n",
    "        synthese[dico_fil] = df.shape[1]-1\n",
    "        df_final = pd.merge(df_final, df, on='codecommune', how='inner')\n",
    "        print(f\"DIMENSIONS df_final EN SORTIE :  {df_final.shape}\")\n"
   ]
  },
  {
   "cell_type": "code",
   "execution_count": null,
   "id": "ee54131c-7c83-4ac5-b4a0-f3a9dc8ba1b3",
   "metadata": {},
   "outputs": [],
   "source": [
    "synthese"
   ]
  },
  {
   "cell_type": "code",
   "execution_count": null,
   "id": "7b064c2c-578a-4511-b4ee-1b2dd62b68d1",
   "metadata": {},
   "outputs": [],
   "source": [
    "df_final['key']=df_final['codecommune']"
   ]
  },
  {
   "cell_type": "code",
   "execution_count": null,
   "id": "7cf347a3-83b2-4b4c-931f-10cac9338a1b",
   "metadata": {},
   "outputs": [],
   "source": [
    "df_final.set_index('key', inplace=True)\n",
    "df_final.head(2)"
   ]
  },
  {
   "cell_type": "code",
   "execution_count": null,
   "id": "baea1d60-e578-4aba-89ab-ce400e5f6a7e",
   "metadata": {},
   "outputs": [],
   "source": [
    "index_suppr = ['13201',\n",
    " '13202',\n",
    " '13203',\n",
    " '13204',\n",
    " '13205',\n",
    " '13206',\n",
    " '13207',\n",
    " '13208',\n",
    " '13209',\n",
    " '13210',\n",
    " '13211',\n",
    " '13212',\n",
    " '13213',\n",
    " '13214',\n",
    " '13215',\n",
    " '13216',\n",
    " '69380',\n",
    " '69381',\n",
    " '69382',\n",
    " '69383',\n",
    " '69384',\n",
    " '69385',\n",
    " '69386',\n",
    " '69387',\n",
    " '69388',\n",
    " '69389',\n",
    " '75056']\n",
    "\n"
   ]
  },
  {
   "cell_type": "code",
   "execution_count": null,
   "id": "4d6f2e31-cbca-421a-8a1e-3de19e7b7ca6",
   "metadata": {},
   "outputs": [],
   "source": [
    "df_final = df_final[~df_final['codecommune'].isin(index_suppr)]\n",
    "df_final.shape"
   ]
  },
  {
   "cell_type": "code",
   "execution_count": null,
   "id": "14dd0576-a433-460a-9073-cf45f6ce3e9a",
   "metadata": {},
   "outputs": [],
   "source": []
  },
  {
   "cell_type": "code",
   "execution_count": null,
   "id": "0b9f02b8-8826-4229-83b4-80ad970e749d",
   "metadata": {},
   "outputs": [],
   "source": []
  },
  {
   "cell_type": "code",
   "execution_count": null,
   "id": "a2b7747a-e7ea-44df-861a-8e0081ad6241",
   "metadata": {},
   "outputs": [],
   "source": [
    "rc=''\n",
    "cpte = -1\n",
    "for i,c in enumerate (df_final) :\n",
    "    cpte+=1\n",
    "    if c[0:3] != rc and i>3 :\n",
    "        print('\\n>>>> ',rc,':  + ',cpte, ' = ',i)\n",
    "        rc = c[0:3]\n",
    "        cpte = 0\n",
    "    print (c,end=' - ')\n",
    "print('\\n>>>> ',rc,':  + ',cpte, ' = ',i)"
   ]
  },
  {
   "cell_type": "markdown",
   "id": "d98935de-5843-4b8a-bb56-0335003bdf0d",
   "metadata": {},
   "source": [
    "## TRAITER LES Nan RESTANTS"
   ]
  },
  {
   "cell_type": "code",
   "execution_count": null,
   "id": "600d629c-42bb-4d1d-9fca-fb599ae74d11",
   "metadata": {},
   "outputs": [],
   "source": [
    "df_final.isna().sum().sum()"
   ]
  },
  {
   "cell_type": "code",
   "execution_count": null,
   "id": "48d802c0-2e44-4981-ade7-6d8d0ff6038c",
   "metadata": {},
   "outputs": [],
   "source": [
    "nb_lines = len(df_final)\n",
    "for c in df_final :\n",
    "    nb_nan = df_final[c].isna().sum()\n",
    "    if nb_nan > 0 :\n",
    "        print (c,nb_nan, round(nb_nan/nb_lines*100,2),'%', end = '| ')"
   ]
  },
  {
   "cell_type": "code",
   "execution_count": null,
   "id": "ba3ffab5-d5a3-4c4a-9b89-0ad15fb2a485",
   "metadata": {},
   "outputs": [],
   "source": [
    "for c in df_final :\n",
    "    print (c , type(c), end = '-')"
   ]
  },
  {
   "cell_type": "code",
   "execution_count": null,
   "id": "0f3ee26a-fa75-4d4a-ac85-dab6bfac051b",
   "metadata": {},
   "outputs": [],
   "source": [
    "infos = df_final.iloc[:, 0:4]\n",
    "X_tmp= df_final.iloc[:, 4:]\n",
    "infos.head\n"
   ]
  },
  {
   "cell_type": "code",
   "execution_count": null,
   "id": "f61bb9b8-708b-4022-a603-9cc5ad1bde53",
   "metadata": {},
   "outputs": [],
   "source": [
    "# X_tmp.astype(int)\n",
    "for c in X_tmp :\n",
    "    print (c, end ='-')\n",
    "    X_tmp[c] = pd.to_numeric(X_tmp[c], errors='coerce')"
   ]
  },
  {
   "cell_type": "markdown",
   "id": "283e1873-d445-441a-9d55-f9d0caa7d6dc",
   "metadata": {},
   "source": [
    "#### X_tmp.describe()"
   ]
  },
  {
   "cell_type": "code",
   "execution_count": null,
   "id": "81201f53-8d95-41bb-8f0c-b137f80df7d7",
   "metadata": {},
   "outputs": [],
   "source": [
    "X_tmp['YYY_pvoixNUP'].isna().sum()"
   ]
  },
  {
   "cell_type": "code",
   "execution_count": null,
   "id": "bb5c3539-c819-460b-b2fa-6842a0c6d38f",
   "metadata": {},
   "outputs": [],
   "source": [
    "from sklearn.impute import KNNImputer"
   ]
  },
  {
   "cell_type": "code",
   "execution_count": null,
   "id": "5e2e8437-7c3b-402d-a98c-7811ff5acff7",
   "metadata": {},
   "outputs": [],
   "source": [
    "KNNI = KNNImputer(n_neighbors=5)"
   ]
  },
  {
   "cell_type": "code",
   "execution_count": null,
   "id": "ff1b05d6-cf65-428c-a42f-73ce0114a28d",
   "metadata": {},
   "outputs": [],
   "source": []
  },
  {
   "cell_type": "code",
   "execution_count": null,
   "id": "15291e0f-c6f8-4933-a5d4-e07849de5847",
   "metadata": {},
   "outputs": [],
   "source": []
  },
  {
   "cell_type": "code",
   "execution_count": null,
   "id": "a6daef71-5dee-4b23-bac4-671cc960d48b",
   "metadata": {},
   "outputs": [],
   "source": [
    "from sklearn.impute import KNNImputer\n",
    "imputer = KNNImputer(n_neighbors=5)\n",
    "df_finalC = pd.DataFrame(imputer.fit_transform(X_tmp),columns=X_tmp.columns)"
   ]
  },
  {
   "cell_type": "code",
   "execution_count": null,
   "id": "1bc68e66-7da0-47ba-a1ac-0dfd395a7216",
   "metadata": {},
   "outputs": [],
   "source": [
    "df_finalC.isna().sum().sum()"
   ]
  },
  {
   "cell_type": "code",
   "execution_count": null,
   "id": "f6c29451-3436-4e03-a427-1f58c4591de4",
   "metadata": {},
   "outputs": [],
   "source": [
    "df_finalC.iloc[0:10].shape"
   ]
  },
  {
   "cell_type": "markdown",
   "id": "67154d2f-af8c-4d87-a4bb-6fd225634990",
   "metadata": {},
   "source": [
    "## EXPORTER"
   ]
  },
  {
   "cell_type": "code",
   "execution_count": null,
   "id": "855c522d-e169-4e37-981b-4ede52216a9e",
   "metadata": {},
   "outputs": [],
   "source": [
    "path_export='../DATA/final_DATA.csv'\n",
    "df_finalC.to_csv(path_export, sep=';', index=True)\n",
    "print(f'DataFrame exported to: {path_export}')"
   ]
  },
  {
   "cell_type": "code",
   "execution_count": null,
   "id": "831a4405-ad53-4b8f-a571-d273ce048f25",
   "metadata": {},
   "outputs": [],
   "source": [
    "path_export='../DATA/final_4first_col.csv'\n",
    "infos.to_csv(path_export, sep=';', index=True)\n",
    "print(f'DataFrame exported to: {path_export}')"
   ]
  },
  {
   "cell_type": "code",
   "execution_count": null,
   "id": "cd0d515f-ecf5-46b4-a044-854bb2ecf3f1",
   "metadata": {},
   "outputs": [],
   "source": []
  }
 ],
 "metadata": {
  "kernelspec": {
   "display_name": "Python 3 (ipykernel)",
   "language": "python",
   "name": "python3"
  },
  "language_info": {
   "codemirror_mode": {
    "name": "ipython",
    "version": 3
   },
   "file_extension": ".py",
   "mimetype": "text/x-python",
   "name": "python",
   "nbconvert_exporter": "python",
   "pygments_lexer": "ipython3",
   "version": "3.10.12"
  }
 },
 "nbformat": 4,
 "nbformat_minor": 5
}
