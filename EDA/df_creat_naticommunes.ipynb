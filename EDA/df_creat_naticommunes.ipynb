{
 "cells": [
  {
   "cell_type": "markdown",
   "id": "ea3e4cdc-4ad0-480e-8a5e-0e4e4dee9ac3",
   "metadata": {},
   "source": [
    "# <center>  Model Creat Dataframe naticommunes [NAT]<br/></center>\n",
    "<a name=\"TOP\"></a>\n",
    "- dev : nyx\n",
    "- Fichier CSV : Proprietaires_csv/Proprietaires_csv/proprietairescommunes.csv</a>\n",
    "\n",
    "ALERTES 98 lignes à Nan \n",
    "Faire les plus proches voisins apres FUSION ?\n",
    "    \n",
    "# Description Fichiers : \n",
    "Nationalites communes 2022\n",
    "avec pour chaque année :\n",
    "    4 capital immo\n",
    "    5 prix du bien\n",
    "\n",
    "# Synthese des Actions :\n",
    "Plus de 1000 communes non renseignees flag 1 pour BL_bug\n",
    "creation de lignes avec que des 0\n",
    "  \n",
    "**<u>MENU</u>** \n",
    "- <a href=\"#Import\">P0 : Import CSV</a>\n",
    "- <a href=\"#EDA\">P1 : Mini EDA</a>\n",
    "- <a href=\"#Nan\">P2 : Traitement des Nan</a>\n",
    "- <a href=\"#TRANSCO\">P3 : Filtres et/ou calculs</a>\n",
    "- <a href=\"#EXPORT\">P4 : EXPORT (/DATA/EXPORT_CSV/final_xxxxxxx.csv)</a>\n",
    "\n",
    "\n",
    "\n"
   ]
  },
  {
   "cell_type": "markdown",
   "id": "ca339594-e0cb-478d-b4fb-3e1af6de883d",
   "metadata": {},
   "source": [
    "PREFIXE FICHIER : KP1\n",
    "Structure :\n",
    "\n",
    "    0 dep\n",
    "    1 nomdep\n",
    "    2 codecommune\n",
    "    3 nomcommune\n",
    "    4 KP1_capitalimmo22\n",
    "    5 KP1_prixbien22\n",
    "    6 KP1_capitalimmo12\n",
    "    7 KP1_prixbien12\n",
    "    8 KP1_capitalimmo02\n",
    "    9 KP1_prixbien02\n",
    "    10 KP1_capitalimmo92\n",
    "    11 KP1_prixbien92\n",
    "    12 DBL_bug (flag à 1 poour les lignes ajoutées avec des Nan A TRAITER)\n",
    "\n",
    "\n"
   ]
  },
  {
   "cell_type": "code",
   "execution_count": 1,
   "id": "95d983a2-4b3e-4b94-855b-bf6d33d4ba75",
   "metadata": {},
   "outputs": [],
   "source": [
    "import warnings\n",
    "warnings.filterwarnings(\"ignore\")\n",
    "\n",
    "import os\n",
    "import zipfile\n",
    "import pandas as pd\n",
    "import numpy as np\n",
    "\n",
    "import seaborn as sns\n",
    "import matplotlib.pyplot as plt"
   ]
  },
  {
   "cell_type": "markdown",
   "id": "baa4ba11-c303-401b-b654-f6d5a2f6b7b4",
   "metadata": {},
   "source": [
    "## <a name=\"Import\"></a>Partie 0 : Import CSV&nbsp;&nbsp;&nbsp;&nbsp;&nbsp; <a href=\"#TOP\">&uarr;</a>"
   ]
  },
  {
   "cell_type": "code",
   "execution_count": 2,
   "id": "64bd9ee9-428d-4c50-8304-e1a2635a352b",
   "metadata": {},
   "outputs": [],
   "source": [
    "def df_creat(filename, df_dataframe):  \n",
    "    df = df_dataframe[df_dataframe['filename'] == filename]\n",
    "    if len(df) == 1:\n",
    "        row = df.iloc[0]\n",
    "        file = row['path']\n",
    "        if os.path.exists(file):\n",
    "            print(file)\n",
    "            df_from_csv = pd.read_csv(file, encoding='utf-8', low_memory=False)\n",
    "            return df_from_csv\n",
    "        else:\n",
    "            print('FICHIER NON TROUVE', file)\n",
    "            return pd.DataFrame()\n",
    "    else:\n",
    "        print(f\"filename: '{filename}' return size: {len(df)}\")\n",
    "        return pd.DataFrame()"
   ]
  },
  {
   "cell_type": "code",
   "execution_count": 3,
   "id": "4b858715-3881-4cae-b6f1-59d3e10d9276",
   "metadata": {},
   "outputs": [],
   "source": [
    "csv_file_path = 'df_filtred.csv'\n",
    "# Use pandas to read the CSV file into a DataFrame with UTF-8 encoding\n",
    "df_cat = pd.read_csv(csv_file_path, encoding='utf-8')"
   ]
  },
  {
   "cell_type": "code",
   "execution_count": 4,
   "id": "677ef87c-1d20-4ea9-b483-24fcc6557f7d",
   "metadata": {},
   "outputs": [
    {
     "data": {
      "text/html": [
       "<div>\n",
       "<style scoped>\n",
       "    .dataframe tbody tr th:only-of-type {\n",
       "        vertical-align: middle;\n",
       "    }\n",
       "\n",
       "    .dataframe tbody tr th {\n",
       "        vertical-align: top;\n",
       "    }\n",
       "\n",
       "    .dataframe thead th {\n",
       "        text-align: right;\n",
       "    }\n",
       "</style>\n",
       "<table border=\"1\" class=\"dataframe\">\n",
       "  <thead>\n",
       "    <tr style=\"text-align: right;\">\n",
       "      <th></th>\n",
       "      <th>category</th>\n",
       "      <th>filename</th>\n",
       "      <th>comment</th>\n",
       "      <th>size</th>\n",
       "      <th>depart</th>\n",
       "      <th>district</th>\n",
       "      <th>commune</th>\n",
       "      <th>canton</th>\n",
       "      <th>yyyy</th>\n",
       "      <th>path</th>\n",
       "      <th>codecommune</th>\n",
       "    </tr>\n",
       "  </thead>\n",
       "  <tbody>\n",
       "    <tr>\n",
       "      <th>0</th>\n",
       "      <td>Taille_agglo_commune_csv</td>\n",
       "      <td>codescommunes1999</td>\n",
       "      <td>codes</td>\n",
       "      <td>0</td>\n",
       "      <td>0</td>\n",
       "      <td>0</td>\n",
       "      <td>1</td>\n",
       "      <td>0</td>\n",
       "      <td>1999</td>\n",
       "      <td>../../ProjetCommun/DATA_SOURCES/HCP/Taille_agg...</td>\n",
       "      <td>1</td>\n",
       "    </tr>\n",
       "  </tbody>\n",
       "</table>\n",
       "</div>"
      ],
      "text/plain": [
       "                   category           filename comment  size  depart  \\\n",
       "0  Taille_agglo_commune_csv  codescommunes1999   codes     0       0   \n",
       "\n",
       "   district  commune  canton  yyyy  \\\n",
       "0         0        1       0  1999   \n",
       "\n",
       "                                                path  codecommune  \n",
       "0  ../../ProjetCommun/DATA_SOURCES/HCP/Taille_agg...            1  "
      ]
     },
     "execution_count": 4,
     "metadata": {},
     "output_type": "execute_result"
    }
   ],
   "source": [
    "df_cat.head(1)"
   ]
  },
  {
   "cell_type": "code",
   "execution_count": 5,
   "id": "04da4fb3-c6ba-4332-9b2a-872c14a87126",
   "metadata": {},
   "outputs": [
    {
     "name": "stdout",
     "output_type": "stream",
     "text": [
      "../../ProjetCommun/DATA_SOURCES/HCP/Nationalites_csv/Nationalites_csv/naticommunes.csv\n"
     ]
    }
   ],
   "source": [
    "df = df_creat('naticommunes', df_cat)"
   ]
  },
  {
   "cell_type": "markdown",
   "id": "6647aa81-cb46-45dd-a922-b069be341809",
   "metadata": {},
   "source": [
    "## <a name=\"EDA\"></a>Partie 1 : Mini EDA &nbsp;&nbsp;&nbsp;&nbsp;&nbsp; <a href=\"#TOP\">&uarr;</a>"
   ]
  },
  {
   "cell_type": "code",
   "execution_count": 6,
   "id": "cd6d2a1b-246e-4d37-907b-e133b079fa9f",
   "metadata": {},
   "outputs": [
    {
     "data": {
      "text/plain": [
       "(37963, 547)"
      ]
     },
     "execution_count": 6,
     "metadata": {},
     "output_type": "execute_result"
    }
   ],
   "source": [
    "df.shape"
   ]
  },
  {
   "cell_type": "code",
   "execution_count": 7,
   "id": "594cdd42-69ef-4827-8497-f933f546c1ec",
   "metadata": {},
   "outputs": [
    {
     "data": {
      "text/html": [
       "<div>\n",
       "<style scoped>\n",
       "    .dataframe tbody tr th:only-of-type {\n",
       "        vertical-align: middle;\n",
       "    }\n",
       "\n",
       "    .dataframe tbody tr th {\n",
       "        vertical-align: top;\n",
       "    }\n",
       "\n",
       "    .dataframe thead th {\n",
       "        text-align: right;\n",
       "    }\n",
       "</style>\n",
       "<table border=\"1\" class=\"dataframe\">\n",
       "  <thead>\n",
       "    <tr style=\"text-align: right;\">\n",
       "      <th></th>\n",
       "      <th>dep</th>\n",
       "      <th>nomdep</th>\n",
       "      <th>codecommune</th>\n",
       "      <th>nomcommune</th>\n",
       "      <th>paris</th>\n",
       "      <th>lm</th>\n",
       "      <th>pop1962</th>\n",
       "      <th>francais1962</th>\n",
       "      <th>etranger1962</th>\n",
       "      <th>franaiss1962</th>\n",
       "      <th>...</th>\n",
       "      <th>pnatur2007</th>\n",
       "      <th>pnaturfra2007</th>\n",
       "      <th>pnatur2012</th>\n",
       "      <th>pnaturfra2012</th>\n",
       "      <th>pnatur2017</th>\n",
       "      <th>pnaturfra2017</th>\n",
       "      <th>pnatur2022</th>\n",
       "      <th>pnaturfra2022</th>\n",
       "      <th>perimm</th>\n",
       "      <th>petranalg1962</th>\n",
       "    </tr>\n",
       "  </thead>\n",
       "  <tbody>\n",
       "    <tr>\n",
       "      <th>0</th>\n",
       "      <td>80</td>\n",
       "      <td>SOMME</td>\n",
       "      <td>80355</td>\n",
       "      <td>FRESNEVILLE</td>\n",
       "      <td>0</td>\n",
       "      <td>0</td>\n",
       "      <td>107.0</td>\n",
       "      <td>105.0</td>\n",
       "      <td>2.0</td>\n",
       "      <td>105.0</td>\n",
       "      <td>...</td>\n",
       "      <td>0.0</td>\n",
       "      <td>0.0</td>\n",
       "      <td>0.0</td>\n",
       "      <td>0.0</td>\n",
       "      <td>0.0</td>\n",
       "      <td>0.0</td>\n",
       "      <td>0.0</td>\n",
       "      <td>0.0</td>\n",
       "      <td>0.000002</td>\n",
       "      <td>0.000000</td>\n",
       "    </tr>\n",
       "    <tr>\n",
       "      <th>1</th>\n",
       "      <td>30</td>\n",
       "      <td>GARD</td>\n",
       "      <td>30213</td>\n",
       "      <td>REVENS</td>\n",
       "      <td>0</td>\n",
       "      <td>0</td>\n",
       "      <td>39.0</td>\n",
       "      <td>39.0</td>\n",
       "      <td>0.0</td>\n",
       "      <td>39.0</td>\n",
       "      <td>...</td>\n",
       "      <td>0.0</td>\n",
       "      <td>0.0</td>\n",
       "      <td>0.0</td>\n",
       "      <td>0.0</td>\n",
       "      <td>0.0</td>\n",
       "      <td>0.0</td>\n",
       "      <td>0.0</td>\n",
       "      <td>0.0</td>\n",
       "      <td>0.000002</td>\n",
       "      <td>0.000000</td>\n",
       "    </tr>\n",
       "    <tr>\n",
       "      <th>2</th>\n",
       "      <td>55</td>\n",
       "      <td>MEUSE</td>\n",
       "      <td>55434</td>\n",
       "      <td>RIGNY-SAINT-MARTIN</td>\n",
       "      <td>0</td>\n",
       "      <td>0</td>\n",
       "      <td>57.0</td>\n",
       "      <td>57.0</td>\n",
       "      <td>0.0</td>\n",
       "      <td>57.0</td>\n",
       "      <td>...</td>\n",
       "      <td>0.0</td>\n",
       "      <td>0.0</td>\n",
       "      <td>0.0</td>\n",
       "      <td>0.0</td>\n",
       "      <td>0.0</td>\n",
       "      <td>0.0</td>\n",
       "      <td>0.0</td>\n",
       "      <td>0.0</td>\n",
       "      <td>0.000003</td>\n",
       "      <td>0.000000</td>\n",
       "    </tr>\n",
       "    <tr>\n",
       "      <th>3</th>\n",
       "      <td>80</td>\n",
       "      <td>SOMME</td>\n",
       "      <td>80401</td>\n",
       "      <td>GUILLEMONT</td>\n",
       "      <td>0</td>\n",
       "      <td>0</td>\n",
       "      <td>197.0</td>\n",
       "      <td>189.0</td>\n",
       "      <td>8.0</td>\n",
       "      <td>185.0</td>\n",
       "      <td>...</td>\n",
       "      <td>0.0</td>\n",
       "      <td>0.0</td>\n",
       "      <td>0.0</td>\n",
       "      <td>0.0</td>\n",
       "      <td>0.0</td>\n",
       "      <td>0.0</td>\n",
       "      <td>0.0</td>\n",
       "      <td>0.0</td>\n",
       "      <td>0.000005</td>\n",
       "      <td>0.005076</td>\n",
       "    </tr>\n",
       "    <tr>\n",
       "      <th>4</th>\n",
       "      <td>2B</td>\n",
       "      <td>HAUTE-CORSE</td>\n",
       "      <td>2B264</td>\n",
       "      <td>RUSIO</td>\n",
       "      <td>0</td>\n",
       "      <td>0</td>\n",
       "      <td>220.0</td>\n",
       "      <td>220.0</td>\n",
       "      <td>0.0</td>\n",
       "      <td>220.0</td>\n",
       "      <td>...</td>\n",
       "      <td>0.0</td>\n",
       "      <td>0.0</td>\n",
       "      <td>0.0</td>\n",
       "      <td>0.0</td>\n",
       "      <td>0.0</td>\n",
       "      <td>0.0</td>\n",
       "      <td>0.0</td>\n",
       "      <td>0.0</td>\n",
       "      <td>0.000006</td>\n",
       "      <td>0.000000</td>\n",
       "    </tr>\n",
       "  </tbody>\n",
       "</table>\n",
       "<p>5 rows × 547 columns</p>\n",
       "</div>"
      ],
      "text/plain": [
       "  dep       nomdep codecommune          nomcommune  paris  lm  pop1962  \\\n",
       "0  80        SOMME       80355         FRESNEVILLE      0   0    107.0   \n",
       "1  30         GARD       30213              REVENS      0   0     39.0   \n",
       "2  55        MEUSE       55434  RIGNY-SAINT-MARTIN      0   0     57.0   \n",
       "3  80        SOMME       80401          GUILLEMONT      0   0    197.0   \n",
       "4  2B  HAUTE-CORSE       2B264               RUSIO      0   0    220.0   \n",
       "\n",
       "   francais1962  etranger1962  franaiss1962  ...  pnatur2007  pnaturfra2007  \\\n",
       "0         105.0           2.0         105.0  ...         0.0            0.0   \n",
       "1          39.0           0.0          39.0  ...         0.0            0.0   \n",
       "2          57.0           0.0          57.0  ...         0.0            0.0   \n",
       "3         189.0           8.0         185.0  ...         0.0            0.0   \n",
       "4         220.0           0.0         220.0  ...         0.0            0.0   \n",
       "\n",
       "   pnatur2012  pnaturfra2012  pnatur2017  pnaturfra2017  pnatur2022  \\\n",
       "0         0.0            0.0         0.0            0.0         0.0   \n",
       "1         0.0            0.0         0.0            0.0         0.0   \n",
       "2         0.0            0.0         0.0            0.0         0.0   \n",
       "3         0.0            0.0         0.0            0.0         0.0   \n",
       "4         0.0            0.0         0.0            0.0         0.0   \n",
       "\n",
       "   pnaturfra2022    perimm  petranalg1962  \n",
       "0            0.0  0.000002       0.000000  \n",
       "1            0.0  0.000002       0.000000  \n",
       "2            0.0  0.000003       0.000000  \n",
       "3            0.0  0.000005       0.005076  \n",
       "4            0.0  0.000006       0.000000  \n",
       "\n",
       "[5 rows x 547 columns]"
      ]
     },
     "execution_count": 7,
     "metadata": {},
     "output_type": "execute_result"
    }
   ],
   "source": [
    "df.head(5)"
   ]
  },
  {
   "cell_type": "code",
   "execution_count": 15,
   "id": "af0aa5bf-b220-425a-abb7-478085b19a1f",
   "metadata": {},
   "outputs": [
    {
     "name": "stdout",
     "output_type": "stream",
     "text": [
      "petranger2022\n",
      "peretr2022\n",
      "francais2022\n",
      "etranger2022\n",
      "pop2022\n",
      "immigre2022\n",
      "pimmigre2022\n",
      "immnatur2022\n",
      "pimmnatur2022\n",
      "perimmigre2022\n",
      "natur2022\n",
      "pnatur2022\n",
      "pnaturfra2022\n",
      "{'dep': '80', 'nomdep': 'SOMME', 'codecommune': '80355', 'nomcommune': 'FRESNEVILLE', 'paris': 0, 'lm': 0, 'petranger2022': 0.0, 'peretr2022': 0.0093173301, 'francais2022': 105, 'etranger2022': 0, 'pop2022': 105, 'immigre2022': 0, 'prapat': 0.0, 'perrapat': 0.022626322, 'pimmigre2022': 0.0, 'immnatur2022': 0, 'pimmnatur2022': 0.0, 'perimmigre2022': 1.5965788e-06, 'natur2022': 0, 'pnatur2022': 0.0, 'pnaturfra2022': 0.0, 'perimm': 1.5965788e-06}\n"
     ]
    }
   ],
   "source": [
    "dico={}\n",
    "for c in df :\n",
    "    value =df[c].iloc[0]\n",
    "    try:\n",
    "        last4char = int(c[-4:])\n",
    "        if last4char > 0 and last4char == 2022 :\n",
    "            dico[c] = value\n",
    "            print (c)\n",
    "    except ValueError as e:\n",
    "        dico[c] = value\n",
    "print (dico)\n",
    "    "
   ]
  },
  {
   "cell_type": "code",
   "execution_count": null,
   "id": "9f42a697-e699-463a-a176-aac225991983",
   "metadata": {},
   "outputs": [],
   "source": [
    "# ['petranger2022','pimmigre2022','pimmnatur2022','pnatur2022']"
   ]
  },
  {
   "cell_type": "code",
   "execution_count": 14,
   "id": "30b80fa9-fdce-4006-9389-94714bb0ef6c",
   "metadata": {},
   "outputs": [
    {
     "name": "stdout",
     "output_type": "stream",
     "text": [
      "petranger2012\n",
      "peretr2012\n",
      "pop2012\n",
      "francais2012\n",
      "etranger2012\n",
      "immigre2012\n",
      "pimmigre2012\n",
      "immnatur2012\n",
      "pimmnatur2012\n",
      "perimmigre2012\n",
      "natur2012\n",
      "pnatur2012\n",
      "pnaturfra2012\n",
      "{'dep': '80', 'nomdep': 'SOMME', 'codecommune': '80355', 'nomcommune': 'FRESNEVILLE', 'paris': 0, 'lm': 0, 'petranger2012': 0.0, 'peretr2012': 0.0011042827, 'pop2012': 105.0, 'francais2012': 105.0, 'etranger2012': 0.0, 'immigre2012': 0.0, 'prapat': 0.0, 'perrapat': 0.022626322, 'pimmigre2012': 0.0, 'immnatur2012': 0, 'pimmnatur2012': 0.0, 'perimmigre2012': 0.0019888605, 'natur2012': 0, 'pnatur2012': 0.0, 'pnaturfra2012': 0.0, 'perimm': 1.5965788e-06}\n"
     ]
    }
   ],
   "source": [
    "dico={}\n",
    "for c in df :\n",
    "    value =df[c].iloc[0]\n",
    "    try:\n",
    "        last4char = int(c[-4:])\n",
    "        if last4char > 0 and last4char == 2012 :\n",
    "            dico[c] = value\n",
    "            print (c)\n",
    "    except ValueError as e:\n",
    "        dico[c] = value\n",
    "print (dico)\n",
    "    "
   ]
  },
  {
   "cell_type": "code",
   "execution_count": 16,
   "id": "bc782f8f-f041-4724-aba9-48c74effb27c",
   "metadata": {},
   "outputs": [],
   "source": [
    "# ['petranger2022','pimmigre2022','pimmnatur2022','pnatur2022','petranger2012','pimmigre2012','pimmnatur2012','pimmnatur2012']"
   ]
  },
  {
   "cell_type": "code",
   "execution_count": 13,
   "id": "9a4d3ad1-98f4-4a15-9180-0fb15dd603a1",
   "metadata": {},
   "outputs": [
    {
     "name": "stdout",
     "output_type": "stream",
     "text": [
      "petranger2002\n",
      "peretr2002\n",
      "francais2002\n",
      "etranger2002\n",
      "pop2002\n",
      "{'dep': '80', 'nomdep': 'SOMME', 'codecommune': '80355', 'nomcommune': 'FRESNEVILLE', 'paris': 0, 'lm': 0, 'petranger2002': 0.0, 'peretr2002': 0.0087613985, 'francais2002': 87.0, 'etranger2002': 0.0, 'pop2002': 87.0, 'prapat': 0.0, 'perrapat': 0.022626322, 'perimm': 1.5965788e-06}\n"
     ]
    }
   ],
   "source": [
    "dico={}\n",
    "for c in df :\n",
    "    value =df[c].iloc[0]\n",
    "    try:\n",
    "        last4char = int(c[-4:])\n",
    "        if last4char > 0 and last4char == 2002 :\n",
    "            dico[c] = value\n",
    "            print (c)\n",
    "    except ValueError as e:\n",
    "        dico[c] = value\n",
    "print (dico)\n",
    "    "
   ]
  },
  {
   "cell_type": "code",
   "execution_count": null,
   "id": "e1a5c35e-f447-4331-9189-512bc7fb1781",
   "metadata": {},
   "outputs": [],
   "source": [
    "# ['petranger2022','pimmigre2022','pimmnatur2022','pnatur2022','petranger2012','pimmigre2012','pimmnatur2012','pimmnatur2012','petranger2002']"
   ]
  },
  {
   "cell_type": "code",
   "execution_count": 12,
   "id": "99dffbd3-a97b-49b9-8166-c92cf90fa947",
   "metadata": {},
   "outputs": [
    {
     "name": "stdout",
     "output_type": "stream",
     "text": [
      "petranger1992\n",
      "peretr1992\n",
      "francais1992\n",
      "etranger1992\n",
      "pop1992\n",
      "{'dep': '80', 'nomdep': 'SOMME', 'codecommune': '80355', 'nomcommune': 'FRESNEVILLE', 'paris': 0, 'lm': 0, 'petranger1992': 0.0, 'peretr1992': 0.00021947466, 'francais1992': 71.0, 'etranger1992': 0.0, 'pop1992': 71.0, 'prapat': 0.0, 'perrapat': 0.022626322, 'perimm': 1.5965788e-06}\n"
     ]
    }
   ],
   "source": [
    "dico={}\n",
    "for c in df :\n",
    "    value =df[c].iloc[0]\n",
    "    try:\n",
    "        last4char = int(c[-4:])\n",
    "        if last4char > 0 and last4char == 1992 :\n",
    "            dico[c] = value\n",
    "            print (c)\n",
    "    except ValueError as e:\n",
    "        dico[c] = value\n",
    "print (dico)\n",
    "    "
   ]
  },
  {
   "cell_type": "code",
   "execution_count": 26,
   "id": "4f6ce9d5-0708-4ad3-9e01-086f0713a2ea",
   "metadata": {},
   "outputs": [
    {
     "data": {
      "text/plain": [
       "['petranger2022',\n",
       " 'pimmigre2022',\n",
       " 'pimmnatur2022',\n",
       " 'pnatur2022',\n",
       " 'petranger2012',\n",
       " 'pimmigre2012',\n",
       " 'pimmnatur2012',\n",
       " 'petranger2002',\n",
       " 'petranger1992']"
      ]
     },
     "execution_count": 26,
     "metadata": {},
     "output_type": "execute_result"
    }
   ],
   "source": [
    "# ['petranger2022','pimmigre2022','pimmnatur2022','pnatur2022','petranger2012','pimmigre2012','pimmnatur2012','pimmnatur2012','petranger2002','petranger1992']\n",
    "\n",
    "col_dict = {\n",
    "    'petranger2022' : 'NAT_petranger22',\n",
    "    'pimmigre2022' : 'NAT_pimmigre22',\n",
    "    'pimmnatur2022' : 'NAT_pimmnatur22',\n",
    "    'pnatur2022' : 'NAT_pnatur22' ,\n",
    "    'petranger2012' : 'NAT_petranger12' ,\n",
    "    'pimmigre2012' : 'NAT_pimmigre12',\n",
    "    'pimmnatur2012' : 'NAT_pimmnatur12',\n",
    "    'pimmnatur2012' : 'NAT_pimmnatur12',\n",
    "    'petranger2002' : 'NAT_petranger02',\n",
    "    'petranger1992' : 'NAT_petranger92' }\n",
    "\n",
    "col_to_add = list(col_dict.keys())\n",
    "col_to_add"
   ]
  },
  {
   "cell_type": "code",
   "execution_count": 27,
   "id": "be3a1e1c-2341-49d5-b062-966da48c97a0",
   "metadata": {},
   "outputs": [
    {
     "data": {
      "text/plain": [
       "(37963, 547)"
      ]
     },
     "execution_count": 27,
     "metadata": {},
     "output_type": "execute_result"
    }
   ],
   "source": [
    "df.shape"
   ]
  },
  {
   "cell_type": "code",
   "execution_count": 28,
   "id": "35a52b5a-fede-4c61-8117-d73956f670b0",
   "metadata": {},
   "outputs": [],
   "source": [
    "for c in list(col_dict.keys()) :\n",
    "    df[col_dict[c]] = df[c]"
   ]
  },
  {
   "cell_type": "code",
   "execution_count": 29,
   "id": "241ed65c-ce9f-45da-a0de-886f5a897b04",
   "metadata": {},
   "outputs": [
    {
     "data": {
      "text/plain": [
       "(37963, 556)"
      ]
     },
     "execution_count": 29,
     "metadata": {},
     "output_type": "execute_result"
    }
   ],
   "source": [
    "df.shape"
   ]
  },
  {
   "cell_type": "code",
   "execution_count": 31,
   "id": "83156f50-eb5e-4ac0-9eaf-cf7ff65ad7d1",
   "metadata": {},
   "outputs": [
    {
     "data": {
      "text/html": [
       "<div>\n",
       "<style scoped>\n",
       "    .dataframe tbody tr th:only-of-type {\n",
       "        vertical-align: middle;\n",
       "    }\n",
       "\n",
       "    .dataframe tbody tr th {\n",
       "        vertical-align: top;\n",
       "    }\n",
       "\n",
       "    .dataframe thead th {\n",
       "        text-align: right;\n",
       "    }\n",
       "</style>\n",
       "<table border=\"1\" class=\"dataframe\">\n",
       "  <thead>\n",
       "    <tr style=\"text-align: right;\">\n",
       "      <th></th>\n",
       "      <th>dep</th>\n",
       "      <th>nomdep</th>\n",
       "      <th>codecommune</th>\n",
       "      <th>nomcommune</th>\n",
       "      <th>NAT_petranger22</th>\n",
       "      <th>NAT_pimmigre22</th>\n",
       "      <th>NAT_pimmnatur22</th>\n",
       "      <th>NAT_pnatur22</th>\n",
       "      <th>NAT_petranger12</th>\n",
       "      <th>NAT_pimmigre12</th>\n",
       "      <th>NAT_pimmnatur12</th>\n",
       "      <th>NAT_petranger02</th>\n",
       "      <th>NAT_petranger92</th>\n",
       "    </tr>\n",
       "  </thead>\n",
       "  <tbody>\n",
       "    <tr>\n",
       "      <th>0</th>\n",
       "      <td>80</td>\n",
       "      <td>SOMME</td>\n",
       "      <td>80355</td>\n",
       "      <td>FRESNEVILLE</td>\n",
       "      <td>0.0</td>\n",
       "      <td>0.0</td>\n",
       "      <td>0.0</td>\n",
       "      <td>0.0</td>\n",
       "      <td>0.0</td>\n",
       "      <td>0.0</td>\n",
       "      <td>0.0</td>\n",
       "      <td>0.0</td>\n",
       "      <td>0.0</td>\n",
       "    </tr>\n",
       "    <tr>\n",
       "      <th>1</th>\n",
       "      <td>30</td>\n",
       "      <td>GARD</td>\n",
       "      <td>30213</td>\n",
       "      <td>REVENS</td>\n",
       "      <td>0.0</td>\n",
       "      <td>0.0</td>\n",
       "      <td>0.0</td>\n",
       "      <td>0.0</td>\n",
       "      <td>0.0</td>\n",
       "      <td>0.0</td>\n",
       "      <td>0.0</td>\n",
       "      <td>0.0</td>\n",
       "      <td>0.0</td>\n",
       "    </tr>\n",
       "  </tbody>\n",
       "</table>\n",
       "</div>"
      ],
      "text/plain": [
       "  dep nomdep codecommune   nomcommune  NAT_petranger22  NAT_pimmigre22  \\\n",
       "0  80  SOMME       80355  FRESNEVILLE              0.0             0.0   \n",
       "1  30   GARD       30213       REVENS              0.0             0.0   \n",
       "\n",
       "   NAT_pimmnatur22  NAT_pnatur22  NAT_petranger12  NAT_pimmigre12  \\\n",
       "0              0.0           0.0              0.0             0.0   \n",
       "1              0.0           0.0              0.0             0.0   \n",
       "\n",
       "   NAT_pimmnatur12  NAT_petranger02  NAT_petranger92  \n",
       "0              0.0              0.0              0.0  \n",
       "1              0.0              0.0              0.0  "
      ]
     },
     "execution_count": 31,
     "metadata": {},
     "output_type": "execute_result"
    }
   ],
   "source": [
    "df = df.drop(df.columns[4:547], axis=1)\n",
    "df.head(2)"
   ]
  },
  {
   "cell_type": "code",
   "execution_count": 32,
   "id": "bb09725f-e85d-4297-a367-8ae5bae478c1",
   "metadata": {},
   "outputs": [
    {
     "data": {
      "text/plain": [
       "(37963, 37963)"
      ]
     },
     "execution_count": 32,
     "metadata": {},
     "output_type": "execute_result"
    }
   ],
   "source": [
    "df['codecommune'].nunique(),len(df)"
   ]
  },
  {
   "cell_type": "code",
   "execution_count": null,
   "id": "0f7d9856-9179-4cfc-980c-802dcb1c5fc6",
   "metadata": {},
   "outputs": [],
   "source": []
  },
  {
   "cell_type": "code",
   "execution_count": 33,
   "id": "231e2c76-da6c-45ad-95e3-4167ec096525",
   "metadata": {},
   "outputs": [
    {
     "name": "stdout",
     "output_type": "stream",
     "text": [
      "['01001', '01002', '01004', '01005', '01006', '01007', '01008', '01009', '01010', '01011'] 33830\n"
     ]
    }
   ],
   "source": [
    "file_path = '../DATA/list_codecommune_leg2022_50inscrits.txt'\n",
    "\n",
    "# Open the text file and read lines into a list\n",
    "with open(file_path, 'r', encoding='utf-8') as file:\n",
    "    lines = [line.strip() for line in file.readlines()]\n",
    "\n",
    "# Print or manipulate the list of lines as needed\n",
    "print(lines[0:10], len(lines))"
   ]
  },
  {
   "cell_type": "code",
   "execution_count": null,
   "id": "27a00a10-7496-409c-9428-08532f82d85a",
   "metadata": {},
   "outputs": [],
   "source": []
  },
  {
   "cell_type": "code",
   "execution_count": null,
   "id": "2416ae54-883f-4f8d-8da3-44a48c8c3194",
   "metadata": {},
   "outputs": [],
   "source": []
  },
  {
   "cell_type": "code",
   "execution_count": null,
   "id": "d1ca979e-e223-4cbc-bb74-df04a62d85d5",
   "metadata": {},
   "outputs": [],
   "source": []
  },
  {
   "cell_type": "code",
   "execution_count": null,
   "id": "dea6cd07-c20b-4f25-85aa-e88fb400c642",
   "metadata": {},
   "outputs": [],
   "source": []
  },
  {
   "cell_type": "code",
   "execution_count": null,
   "id": "f28b089b-8b52-47ce-b16a-7e3d8c5cf409",
   "metadata": {},
   "outputs": [],
   "source": []
  },
  {
   "cell_type": "code",
   "execution_count": null,
   "id": "e7f4b0d1-ece7-462f-9b16-7d9dc893bd54",
   "metadata": {},
   "outputs": [],
   "source": []
  },
  {
   "cell_type": "code",
   "execution_count": null,
   "id": "44e9bd7a-f588-4128-86b1-cf96b342ad3c",
   "metadata": {},
   "outputs": [],
   "source": []
  },
  {
   "cell_type": "code",
   "execution_count": null,
   "id": "d4b2b78c-ec0f-4bfc-a404-0c23388a44f8",
   "metadata": {},
   "outputs": [],
   "source": []
  },
  {
   "cell_type": "code",
   "execution_count": null,
   "id": "dfecd9e4-424e-4a60-9c27-c9571d24691b",
   "metadata": {},
   "outputs": [],
   "source": []
  },
  {
   "cell_type": "code",
   "execution_count": null,
   "id": "b08c9f1e-a4e1-424f-8fbe-f291e9b22818",
   "metadata": {},
   "outputs": [],
   "source": []
  },
  {
   "cell_type": "code",
   "execution_count": null,
   "id": "03187370-d984-4c17-b1b2-7aa89c8ae3d4",
   "metadata": {},
   "outputs": [],
   "source": []
  },
  {
   "cell_type": "code",
   "execution_count": null,
   "id": "31129e97-1750-4e86-927a-46271df3ca7b",
   "metadata": {},
   "outputs": [],
   "source": []
  },
  {
   "cell_type": "code",
   "execution_count": null,
   "id": "00fa5cd8-a4f4-4204-8905-86c8491d28d8",
   "metadata": {},
   "outputs": [],
   "source": []
  },
  {
   "cell_type": "code",
   "execution_count": null,
   "id": "cc03bd29-a174-4d40-bae6-a766eadc2d49",
   "metadata": {},
   "outputs": [],
   "source": []
  },
  {
   "cell_type": "code",
   "execution_count": null,
   "id": "3e6bc506-8698-4f84-9b25-0231564fadbd",
   "metadata": {},
   "outputs": [],
   "source": []
  },
  {
   "cell_type": "code",
   "execution_count": 24,
   "id": "9f83feaa-73bc-4fdf-8b5c-4a1faae00f25",
   "metadata": {},
   "outputs": [
    {
     "data": {
      "text/plain": [
       "0.8197674418604651"
      ]
     },
     "execution_count": 24,
     "metadata": {},
     "output_type": "execute_result"
    }
   ],
   "source": [
    "282 / 344"
   ]
  },
  {
   "cell_type": "code",
   "execution_count": 25,
   "id": "b3a3bebe-118e-4a9d-99a7-7ec78389cd6a",
   "metadata": {},
   "outputs": [
    {
     "data": {
      "text/plain": [
       "(37937, 426)"
      ]
     },
     "execution_count": 25,
     "metadata": {},
     "output_type": "execute_result"
    }
   ],
   "source": [
    "df.shape"
   ]
  },
  {
   "cell_type": "code",
   "execution_count": 26,
   "id": "64559a68-bd53-4364-93d3-20069ed9dd2d",
   "metadata": {},
   "outputs": [
    {
     "data": {
      "text/plain": [
       "(37937, 434)"
      ]
     },
     "execution_count": 26,
     "metadata": {},
     "output_type": "execute_result"
    }
   ],
   "source": [
    "list_yyyy = [2022,2012,2002,1992]\n",
    "list_indic = ['ppropri','nlogement']\n",
    "list_col = df.columns.tolist()\n",
    "for yyyy in list_yyyy :\n",
    "    for indic in list_indic :\n",
    "        col_source = str(indic) + str(yyyy)\n",
    "        if col_source in list_col :\n",
    "            yy=str(yyyy)[-2:]\n",
    "            new_col='PRO_'+ str(indic) + str(yy)\n",
    "            df[new_col] = df[col_source]\n",
    "\n",
    "df.shape\n"
   ]
  },
  {
   "cell_type": "code",
   "execution_count": 27,
   "id": "e5174b44-a1e2-46c9-b111-b0b077b98064",
   "metadata": {},
   "outputs": [
    {
     "data": {
      "text/html": [
       "<div>\n",
       "<style scoped>\n",
       "    .dataframe tbody tr th:only-of-type {\n",
       "        vertical-align: middle;\n",
       "    }\n",
       "\n",
       "    .dataframe tbody tr th {\n",
       "        vertical-align: top;\n",
       "    }\n",
       "\n",
       "    .dataframe thead th {\n",
       "        text-align: right;\n",
       "    }\n",
       "</style>\n",
       "<table border=\"1\" class=\"dataframe\">\n",
       "  <thead>\n",
       "    <tr style=\"text-align: right;\">\n",
       "      <th></th>\n",
       "      <th>dep</th>\n",
       "      <th>nomdep</th>\n",
       "      <th>codecommune</th>\n",
       "      <th>nomcommune</th>\n",
       "      <th>PRO_ppropri22</th>\n",
       "      <th>PRO_nlogement22</th>\n",
       "      <th>PRO_ppropri12</th>\n",
       "      <th>PRO_nlogement12</th>\n",
       "      <th>PRO_ppropri02</th>\n",
       "      <th>PRO_nlogement02</th>\n",
       "      <th>PRO_ppropri92</th>\n",
       "      <th>PRO_nlogement92</th>\n",
       "    </tr>\n",
       "  </thead>\n",
       "  <tbody>\n",
       "    <tr>\n",
       "      <th>0</th>\n",
       "      <td>01</td>\n",
       "      <td>AIN</td>\n",
       "      <td>01001</td>\n",
       "      <td>ABERGEMENT-CLEMENCIAT</td>\n",
       "      <td>0.825359</td>\n",
       "      <td>418</td>\n",
       "      <td>0.819767</td>\n",
       "      <td>344</td>\n",
       "      <td>0.806691</td>\n",
       "      <td>269.0</td>\n",
       "      <td>0.768116</td>\n",
       "      <td>207.0</td>\n",
       "    </tr>\n",
       "    <tr>\n",
       "      <th>1</th>\n",
       "      <td>01</td>\n",
       "      <td>AIN</td>\n",
       "      <td>01002</td>\n",
       "      <td>ABERGEMENT-DE-VAREY</td>\n",
       "      <td>0.809524</td>\n",
       "      <td>126</td>\n",
       "      <td>0.800000</td>\n",
       "      <td>100</td>\n",
       "      <td>0.853333</td>\n",
       "      <td>75.0</td>\n",
       "      <td>0.897059</td>\n",
       "      <td>68.0</td>\n",
       "    </tr>\n",
       "  </tbody>\n",
       "</table>\n",
       "</div>"
      ],
      "text/plain": [
       "  dep nomdep codecommune             nomcommune  PRO_ppropri22  \\\n",
       "0  01    AIN       01001  ABERGEMENT-CLEMENCIAT       0.825359   \n",
       "1  01    AIN       01002    ABERGEMENT-DE-VAREY       0.809524   \n",
       "\n",
       "   PRO_nlogement22  PRO_ppropri12  PRO_nlogement12  PRO_ppropri02  \\\n",
       "0              418       0.819767              344       0.806691   \n",
       "1              126       0.800000              100       0.853333   \n",
       "\n",
       "   PRO_nlogement02  PRO_ppropri92  PRO_nlogement92  \n",
       "0            269.0       0.768116            207.0  \n",
       "1             75.0       0.897059             68.0  "
      ]
     },
     "execution_count": 27,
     "metadata": {},
     "output_type": "execute_result"
    }
   ],
   "source": [
    "df = df.drop(df.columns[4:426], axis=1)\n",
    "df.head(2)"
   ]
  },
  {
   "cell_type": "code",
   "execution_count": 28,
   "id": "6847076f-cfab-4a8d-86a9-643225cc710c",
   "metadata": {},
   "outputs": [
    {
     "data": {
      "text/plain": [
       "dep                   0\n",
       "nomdep             1375\n",
       "codecommune           0\n",
       "nomcommune         1375\n",
       "PRO_ppropri22      1392\n",
       "PRO_nlogement22       0\n",
       "PRO_ppropri12      1377\n",
       "PRO_nlogement12       0\n",
       "PRO_ppropri02      1374\n",
       "PRO_nlogement02    1374\n",
       "PRO_ppropri92      1397\n",
       "PRO_nlogement92    1396\n",
       "dtype: int64"
      ]
     },
     "execution_count": 28,
     "metadata": {},
     "output_type": "execute_result"
    }
   ],
   "source": [
    "df.isna().sum()"
   ]
  },
  {
   "cell_type": "code",
   "execution_count": 29,
   "id": "0b693e2e-c6f7-4375-aaca-f0fa37bbcc41",
   "metadata": {},
   "outputs": [
    {
     "data": {
      "text/plain": [
       "(37937, 37937)"
      ]
     },
     "execution_count": 29,
     "metadata": {},
     "output_type": "execute_result"
    }
   ],
   "source": [
    "df['codecommune'].nunique(),len(df)"
   ]
  },
  {
   "cell_type": "markdown",
   "id": "fbfee32e-517c-43a1-b4a8-256c3c6cdeac",
   "metadata": {},
   "source": [
    "## <a name=\"TRANSCO\"></a>Partie 3 : Filtres et/ou calculs&nbsp;&nbsp;&nbsp;&nbsp;&nbsp;<a href=\"#TOP\">&uarr;</a>"
   ]
  },
  {
   "cell_type": "code",
   "execution_count": 30,
   "id": "586534db-a6ba-40ed-a468-fae73a41273e",
   "metadata": {},
   "outputs": [
    {
     "name": "stdout",
     "output_type": "stream",
     "text": [
      "['01001', '01002', '01004', '01005', '01006', '01007', '01008', '01009', '01010', '01011'] 33830\n"
     ]
    }
   ],
   "source": [
    "file_path = '../DATA/list_codecommune_leg2022_50inscrits.txt'\n",
    "\n",
    "# Open the text file and read lines into a list\n",
    "with open(file_path, 'r', encoding='utf-8') as file:\n",
    "    lines = [line.strip() for line in file.readlines()]\n",
    "\n",
    "# Print or manipulate the list of lines as needed\n",
    "print(lines[0:10], len(lines))"
   ]
  },
  {
   "cell_type": "code",
   "execution_count": 31,
   "id": "03039577-4fa4-4435-b16e-f34e14e9db9f",
   "metadata": {},
   "outputs": [
    {
     "data": {
      "text/plain": [
       "((33803, 12), (37937, 12))"
      ]
     },
     "execution_count": 31,
     "metadata": {},
     "output_type": "execute_result"
    }
   ],
   "source": [
    "df_filtered = df[df['codecommune'].isin(lines)]\n",
    "df_filtered.shape,df.shape"
   ]
  },
  {
   "cell_type": "code",
   "execution_count": 32,
   "id": "725e8504-c42f-4817-a33d-7531ac607c87",
   "metadata": {},
   "outputs": [
    {
     "data": {
      "text/plain": [
       "('01002', 33803)"
      ]
     },
     "execution_count": 32,
     "metadata": {},
     "output_type": "execute_result"
    }
   ],
   "source": [
    "codecommune_listdf_filtered= df_filtered['codecommune'].tolist()\n",
    "codecommune_listdf_filtered[1], len(codecommune_listdf_filtered)"
   ]
  },
  {
   "cell_type": "code",
   "execution_count": 33,
   "id": "d961e81b-2143-4343-b848-2d7effed3f5b",
   "metadata": {},
   "outputs": [
    {
     "data": {
      "text/plain": [
       "27"
      ]
     },
     "execution_count": 33,
     "metadata": {},
     "output_type": "execute_result"
    }
   ],
   "source": [
    "absent = [x for x in lines if x not in codecommune_listdf_filtered]\n",
    "len (absent)"
   ]
  },
  {
   "cell_type": "code",
   "execution_count": 34,
   "id": "ecf530ad-3eec-47dd-9932-a0d70ee4f8a7",
   "metadata": {},
   "outputs": [
    {
     "data": {
      "text/plain": [
       "['13201',\n",
       " '13202',\n",
       " '13203',\n",
       " '13204',\n",
       " '13205',\n",
       " '13206',\n",
       " '13207',\n",
       " '13208',\n",
       " '13209',\n",
       " '13210',\n",
       " '13211',\n",
       " '13212',\n",
       " '13213',\n",
       " '13214',\n",
       " '13215',\n",
       " '13216',\n",
       " '69281',\n",
       " '69282',\n",
       " '69283',\n",
       " '69284',\n",
       " '69285',\n",
       " '69286',\n",
       " '69287',\n",
       " '69288',\n",
       " '69289',\n",
       " '69380',\n",
       " '75056']"
      ]
     },
     "execution_count": 34,
     "metadata": {},
     "output_type": "execute_result"
    }
   ],
   "source": [
    "absent"
   ]
  },
  {
   "cell_type": "code",
   "execution_count": 35,
   "id": "bee5655c-c806-4604-9982-5d567a24b7a1",
   "metadata": {},
   "outputs": [],
   "source": [
    "df_filtered['DBL_bug'] = 0"
   ]
  },
  {
   "cell_type": "code",
   "execution_count": 36,
   "id": "faf7578c-aa34-4f8b-a025-7b385c20a2b0",
   "metadata": {},
   "outputs": [
    {
     "data": {
      "text/html": [
       "<div>\n",
       "<style scoped>\n",
       "    .dataframe tbody tr th:only-of-type {\n",
       "        vertical-align: middle;\n",
       "    }\n",
       "\n",
       "    .dataframe tbody tr th {\n",
       "        vertical-align: top;\n",
       "    }\n",
       "\n",
       "    .dataframe thead th {\n",
       "        text-align: right;\n",
       "    }\n",
       "</style>\n",
       "<table border=\"1\" class=\"dataframe\">\n",
       "  <thead>\n",
       "    <tr style=\"text-align: right;\">\n",
       "      <th></th>\n",
       "      <th>dep</th>\n",
       "      <th>nomdep</th>\n",
       "      <th>codecommune</th>\n",
       "      <th>nomcommune</th>\n",
       "      <th>PRO_ppropri22</th>\n",
       "      <th>PRO_nlogement22</th>\n",
       "      <th>PRO_ppropri12</th>\n",
       "      <th>PRO_nlogement12</th>\n",
       "      <th>PRO_ppropri02</th>\n",
       "      <th>PRO_nlogement02</th>\n",
       "      <th>PRO_ppropri92</th>\n",
       "      <th>PRO_nlogement92</th>\n",
       "      <th>DBL_bug</th>\n",
       "    </tr>\n",
       "  </thead>\n",
       "  <tbody>\n",
       "    <tr>\n",
       "      <th>0</th>\n",
       "      <td>01</td>\n",
       "      <td>AIN</td>\n",
       "      <td>01001</td>\n",
       "      <td>ABERGEMENT-CLEMENCIAT</td>\n",
       "      <td>0.825359</td>\n",
       "      <td>418</td>\n",
       "      <td>0.819767</td>\n",
       "      <td>344</td>\n",
       "      <td>0.806691</td>\n",
       "      <td>269.0</td>\n",
       "      <td>0.768116</td>\n",
       "      <td>207.0</td>\n",
       "      <td>0</td>\n",
       "    </tr>\n",
       "  </tbody>\n",
       "</table>\n",
       "</div>"
      ],
      "text/plain": [
       "  dep nomdep codecommune             nomcommune  PRO_ppropri22  \\\n",
       "0  01    AIN       01001  ABERGEMENT-CLEMENCIAT       0.825359   \n",
       "\n",
       "   PRO_nlogement22  PRO_ppropri12  PRO_nlogement12  PRO_ppropri02  \\\n",
       "0              418       0.819767              344       0.806691   \n",
       "\n",
       "   PRO_nlogement02  PRO_ppropri92  PRO_nlogement92  DBL_bug  \n",
       "0            269.0       0.768116            207.0        0  "
      ]
     },
     "execution_count": 36,
     "metadata": {},
     "output_type": "execute_result"
    }
   ],
   "source": [
    "df_filtered.head(1)"
   ]
  },
  {
   "cell_type": "code",
   "execution_count": 37,
   "id": "3e64a0fb-35a4-4332-bc41-928d50127dce",
   "metadata": {},
   "outputs": [
    {
     "data": {
      "text/plain": [
       "(33803, 13)"
      ]
     },
     "execution_count": 37,
     "metadata": {},
     "output_type": "execute_result"
    }
   ],
   "source": [
    "df_filtered.shape"
   ]
  },
  {
   "cell_type": "code",
   "execution_count": 38,
   "id": "7f6301ca-9ce6-4da8-93bf-81fcf7962004",
   "metadata": {},
   "outputs": [
    {
     "data": {
      "text/plain": [
       "(33830, 13)"
      ]
     },
     "execution_count": 38,
     "metadata": {},
     "output_type": "execute_result"
    }
   ],
   "source": [
    "for i,code in enumerate(absent) :\n",
    "    new_row = ['*', '*', code, '*', np.nan, np.nan, np.nan, np.nan, np.nan, np.nan, np.nan, np.nan, 1]\n",
    "    row_df = pd.DataFrame([new_row], columns=df_filtered.columns)\n",
    "    df_filtered = pd.concat([df_filtered, row_df], ignore_index=True)\n",
    "df_filtered.shape"
   ]
  },
  {
   "cell_type": "code",
   "execution_count": 40,
   "id": "32cc8b63-da59-4778-a227-8e4c1cd31067",
   "metadata": {},
   "outputs": [
    {
     "data": {
      "text/plain": [
       "27"
      ]
     },
     "execution_count": 40,
     "metadata": {},
     "output_type": "execute_result"
    }
   ],
   "source": [
    "33830-33803"
   ]
  },
  {
   "cell_type": "code",
   "execution_count": 41,
   "id": "d76d74fa-da7e-402c-8096-ea3d7f47f227",
   "metadata": {},
   "outputs": [
    {
     "data": {
      "text/plain": [
       "dep                 0\n",
       "nomdep             11\n",
       "codecommune         0\n",
       "nomcommune         11\n",
       "PRO_ppropri22      63\n",
       "PRO_nlogement22    27\n",
       "PRO_ppropri12      55\n",
       "PRO_nlogement12    27\n",
       "PRO_ppropri02      54\n",
       "PRO_nlogement02    54\n",
       "PRO_ppropri92      88\n",
       "PRO_nlogement92    88\n",
       "DBL_bug             0\n",
       "dtype: int64"
      ]
     },
     "execution_count": 41,
     "metadata": {},
     "output_type": "execute_result"
    }
   ],
   "source": [
    "df_filtered.isna().sum()"
   ]
  },
  {
   "cell_type": "code",
   "execution_count": 113,
   "id": "cd31b619-bf63-4b59-a198-433b8fc91a96",
   "metadata": {},
   "outputs": [
    {
     "data": {
      "text/plain": [
       "33830"
      ]
     },
     "execution_count": 113,
     "metadata": {},
     "output_type": "execute_result"
    }
   ],
   "source": [
    "len(lines)"
   ]
  },
  {
   "cell_type": "code",
   "execution_count": 114,
   "id": "d003b9a0-0bb3-46e0-ba38-7404e8e5e432",
   "metadata": {},
   "outputs": [
    {
     "data": {
      "text/plain": [
       "33830"
      ]
     },
     "execution_count": 114,
     "metadata": {},
     "output_type": "execute_result"
    }
   ],
   "source": [
    "len(df_filtered)"
   ]
  },
  {
   "cell_type": "markdown",
   "id": "352451f1-99da-4ac0-a95a-8deb6ac94389",
   "metadata": {},
   "source": [
    "## <a name=\"EXPORT\"></a>Partie 4 : EXPORT&nbsp;&nbsp;&nbsp;&nbsp;&nbsp;<a href=\"#TOP\">&uarr;</a>\n",
    "\n"
   ]
  },
  {
   "cell_type": "code",
   "execution_count": 115,
   "id": "d6c0262e-c161-4364-8ee0-353db9958a0a",
   "metadata": {},
   "outputs": [
    {
     "name": "stdout",
     "output_type": "stream",
     "text": [
      "0 dep\n",
      "1 nomdep\n",
      "2 codecommune\n",
      "3 nomcommune\n",
      "4 KP1_capitalimmo22\n",
      "5 KP1_prixbien22\n",
      "6 KP1_capitalimmo12\n",
      "7 KP1_prixbien12\n",
      "8 KP1_capitalimmo02\n",
      "9 KP1_prixbien02\n",
      "10 KP1_capitalimmo92\n",
      "11 KP1_prixbien92\n",
      "12 DBL_bug\n"
     ]
    }
   ],
   "source": [
    "for i,c in enumerate(df_filtered) : \n",
    "    print (i,c)"
   ]
  },
  {
   "cell_type": "code",
   "execution_count": 42,
   "id": "01e85959-eaab-4e7a-8dc5-55ffcac8bf0a",
   "metadata": {},
   "outputs": [],
   "source": [
    "path_export='../DATA/EXPORT_CSV/final_PRO_proprietairescommunes.csv'"
   ]
  },
  {
   "cell_type": "code",
   "execution_count": 43,
   "id": "2f9fa22a-3237-4131-9fae-b4604341807f",
   "metadata": {},
   "outputs": [
    {
     "name": "stdout",
     "output_type": "stream",
     "text": [
      "DataFrame exported to: ../DATA/EXPORT_CSV/final_PRO_proprietairescommunes.csv\n"
     ]
    }
   ],
   "source": [
    "df_filtered.to_csv(path_export, sep=';', index=False)\n",
    "\n",
    "print(f'DataFrame exported to: {path_export}')"
   ]
  },
  {
   "cell_type": "code",
   "execution_count": null,
   "id": "d7c7efd6-a789-4a43-85dc-94c4dc7ec3a7",
   "metadata": {},
   "outputs": [],
   "source": []
  }
 ],
 "metadata": {
  "kernelspec": {
   "display_name": "Python 3 (ipykernel)",
   "language": "python",
   "name": "python3"
  },
  "language_info": {
   "codemirror_mode": {
    "name": "ipython",
    "version": 3
   },
   "file_extension": ".py",
   "mimetype": "text/x-python",
   "name": "python",
   "nbconvert_exporter": "python",
   "pygments_lexer": "ipython3",
   "version": "3.10.12"
  }
 },
 "nbformat": 4,
 "nbformat_minor": 5
}
